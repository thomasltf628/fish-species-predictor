{
 "cells": [
  {
   "cell_type": "code",
   "execution_count": 86,
   "metadata": {},
   "outputs": [],
   "source": [
    "import pandas as pd\n",
    "from sklearn.model_selection import train_test_split\n",
    "from sklearn.preprocessing import StandardScaler, LabelEncoder\n",
    "\n",
    "data = pd.read_csv('Fish.csv')\n"
   ]
  },
  {
   "cell_type": "code",
   "execution_count": 87,
   "metadata": {},
   "outputs": [
    {
     "name": "stderr",
     "output_type": "stream",
     "text": [
      "c:\\Users\\super\\AppData\\Local\\Programs\\Python\\Python311\\Lib\\site-packages\\sklearn\\preprocessing\\_label.py:114: DataConversionWarning: A column-vector y was passed when a 1d array was expected. Please change the shape of y to (n_samples, ), for example using ravel().\n",
      "  y = column_or_1d(y, warn=True)\n"
     ]
    }
   ],
   "source": [
    "X = data.iloc[:, 1:] \n",
    "y = data.iloc[:, 0:1]\n",
    "\n",
    "scaler = StandardScaler()\n",
    "X = scaler.fit_transform(X)\n",
    "\n",
    "encoder = LabelEncoder()\n",
    "y = encoder.fit_transform(y)\n",
    "\n",
    "X_train, X_test, y_train, y_test = train_test_split(X, y, test_size=0.2, random_state=42)"
   ]
  },
  {
   "cell_type": "code",
   "execution_count": 88,
   "metadata": {},
   "outputs": [],
   "source": [
    "from keras.models import Sequential\n",
    "from keras.layers import Dense\n",
    "\n",
    "model = Sequential()\n",
    "model.add(Dense(10, input_dim=6, activation='relu'))\n",
    "model.add(Dense(10, activation='relu'))\n",
    "model.add(Dense(len(encoder.classes_), activation='softmax')) "
   ]
  },
  {
   "cell_type": "code",
   "execution_count": 89,
   "metadata": {},
   "outputs": [],
   "source": [
    "model.compile(loss='sparse_categorical_crossentropy', optimizer='adam', metrics=['accuracy'])"
   ]
  },
  {
   "cell_type": "code",
   "execution_count": 90,
   "metadata": {},
   "outputs": [
    {
     "name": "stdout",
     "output_type": "stream",
     "text": [
      "Epoch 1/100\n",
      "13/13 [==============================] - 0s 2ms/step - loss: 1.9029 - accuracy: 0.3071\n",
      "Epoch 2/100\n",
      "13/13 [==============================] - 0s 974us/step - loss: 1.8623 - accuracy: 0.4961\n",
      "Epoch 3/100\n",
      "13/13 [==============================] - 0s 948us/step - loss: 1.8290 - accuracy: 0.5197\n",
      "Epoch 4/100\n",
      "13/13 [==============================] - 0s 968us/step - loss: 1.7971 - accuracy: 0.4961\n",
      "Epoch 5/100\n",
      "13/13 [==============================] - 0s 994us/step - loss: 1.7610 - accuracy: 0.4961\n",
      "Epoch 6/100\n",
      "13/13 [==============================] - 0s 1ms/step - loss: 1.7256 - accuracy: 0.5118\n",
      "Epoch 7/100\n",
      "13/13 [==============================] - 0s 1ms/step - loss: 1.6849 - accuracy: 0.5276\n",
      "Epoch 8/100\n",
      "13/13 [==============================] - 0s 845us/step - loss: 1.6434 - accuracy: 0.5118\n",
      "Epoch 9/100\n",
      "13/13 [==============================] - 0s 876us/step - loss: 1.5991 - accuracy: 0.5118\n",
      "Epoch 10/100\n",
      "13/13 [==============================] - 0s 940us/step - loss: 1.5517 - accuracy: 0.5197\n",
      "Epoch 11/100\n",
      "13/13 [==============================] - 0s 875us/step - loss: 1.5047 - accuracy: 0.5433\n",
      "Epoch 12/100\n",
      "13/13 [==============================] - 0s 899us/step - loss: 1.4603 - accuracy: 0.5669\n",
      "Epoch 13/100\n",
      "13/13 [==============================] - 0s 984us/step - loss: 1.4111 - accuracy: 0.5669\n",
      "Epoch 14/100\n",
      "13/13 [==============================] - 0s 1ms/step - loss: 1.3650 - accuracy: 0.5906\n",
      "Epoch 15/100\n",
      "13/13 [==============================] - 0s 997us/step - loss: 1.3200 - accuracy: 0.5984\n",
      "Epoch 16/100\n",
      "13/13 [==============================] - 0s 1ms/step - loss: 1.2787 - accuracy: 0.6142\n",
      "Epoch 17/100\n",
      "13/13 [==============================] - 0s 936us/step - loss: 1.2349 - accuracy: 0.6299\n",
      "Epoch 18/100\n",
      "13/13 [==============================] - 0s 877us/step - loss: 1.1940 - accuracy: 0.6457\n",
      "Epoch 19/100\n",
      "13/13 [==============================] - 0s 892us/step - loss: 1.1552 - accuracy: 0.6535\n",
      "Epoch 20/100\n",
      "13/13 [==============================] - 0s 879us/step - loss: 1.1159 - accuracy: 0.6772\n",
      "Epoch 21/100\n",
      "13/13 [==============================] - 0s 967us/step - loss: 1.0796 - accuracy: 0.6850\n",
      "Epoch 22/100\n",
      "13/13 [==============================] - 0s 930us/step - loss: 1.0428 - accuracy: 0.6929\n",
      "Epoch 23/100\n",
      "13/13 [==============================] - 0s 984us/step - loss: 1.0098 - accuracy: 0.6929\n",
      "Epoch 24/100\n",
      "13/13 [==============================] - 0s 1ms/step - loss: 0.9753 - accuracy: 0.6929\n",
      "Epoch 25/100\n",
      "13/13 [==============================] - 0s 1ms/step - loss: 0.9457 - accuracy: 0.6929\n",
      "Epoch 26/100\n",
      "13/13 [==============================] - 0s 1ms/step - loss: 0.9132 - accuracy: 0.7008\n",
      "Epoch 27/100\n",
      "13/13 [==============================] - 0s 962us/step - loss: 0.8854 - accuracy: 0.7008\n",
      "Epoch 28/100\n",
      "13/13 [==============================] - 0s 1ms/step - loss: 0.8594 - accuracy: 0.7008\n",
      "Epoch 29/100\n",
      "13/13 [==============================] - 0s 1ms/step - loss: 0.8348 - accuracy: 0.7008\n",
      "Epoch 30/100\n",
      "13/13 [==============================] - 0s 956us/step - loss: 0.8132 - accuracy: 0.7008\n",
      "Epoch 31/100\n",
      "13/13 [==============================] - 0s 1ms/step - loss: 0.7928 - accuracy: 0.7087\n",
      "Epoch 32/100\n",
      "13/13 [==============================] - 0s 1ms/step - loss: 0.7731 - accuracy: 0.7087\n",
      "Epoch 33/100\n",
      "13/13 [==============================] - 0s 1ms/step - loss: 0.7552 - accuracy: 0.7244\n",
      "Epoch 34/100\n",
      "13/13 [==============================] - 0s 1ms/step - loss: 0.7385 - accuracy: 0.7244\n",
      "Epoch 35/100\n",
      "13/13 [==============================] - 0s 1ms/step - loss: 0.7247 - accuracy: 0.7480\n",
      "Epoch 36/100\n",
      "13/13 [==============================] - 0s 1ms/step - loss: 0.7115 - accuracy: 0.7638\n",
      "Epoch 37/100\n",
      "13/13 [==============================] - 0s 924us/step - loss: 0.6984 - accuracy: 0.7638\n",
      "Epoch 38/100\n",
      "13/13 [==============================] - 0s 1ms/step - loss: 0.6855 - accuracy: 0.7795\n",
      "Epoch 39/100\n",
      "13/13 [==============================] - 0s 1ms/step - loss: 0.6730 - accuracy: 0.7795\n",
      "Epoch 40/100\n",
      "13/13 [==============================] - 0s 1ms/step - loss: 0.6620 - accuracy: 0.7795\n",
      "Epoch 41/100\n",
      "13/13 [==============================] - 0s 950us/step - loss: 0.6507 - accuracy: 0.7795\n",
      "Epoch 42/100\n",
      "13/13 [==============================] - 0s 942us/step - loss: 0.6420 - accuracy: 0.7795\n",
      "Epoch 43/100\n",
      "13/13 [==============================] - 0s 984us/step - loss: 0.6311 - accuracy: 0.7874\n",
      "Epoch 44/100\n",
      "13/13 [==============================] - 0s 849us/step - loss: 0.6226 - accuracy: 0.7874\n",
      "Epoch 45/100\n",
      "13/13 [==============================] - 0s 993us/step - loss: 0.6123 - accuracy: 0.7874\n",
      "Epoch 46/100\n",
      "13/13 [==============================] - 0s 959us/step - loss: 0.6035 - accuracy: 0.7874\n",
      "Epoch 47/100\n",
      "13/13 [==============================] - 0s 919us/step - loss: 0.5959 - accuracy: 0.7874\n",
      "Epoch 48/100\n",
      "13/13 [==============================] - 0s 1ms/step - loss: 0.5872 - accuracy: 0.7874\n",
      "Epoch 49/100\n",
      "13/13 [==============================] - 0s 980us/step - loss: 0.5791 - accuracy: 0.7874\n",
      "Epoch 50/100\n",
      "13/13 [==============================] - 0s 909us/step - loss: 0.5726 - accuracy: 0.7953\n",
      "Epoch 51/100\n",
      "13/13 [==============================] - 0s 964us/step - loss: 0.5698 - accuracy: 0.7953\n",
      "Epoch 52/100\n",
      "13/13 [==============================] - 0s 1ms/step - loss: 0.5593 - accuracy: 0.7953\n",
      "Epoch 53/100\n",
      "13/13 [==============================] - 0s 917us/step - loss: 0.5510 - accuracy: 0.7953\n",
      "Epoch 54/100\n",
      "13/13 [==============================] - 0s 961us/step - loss: 0.5440 - accuracy: 0.7953\n",
      "Epoch 55/100\n",
      "13/13 [==============================] - 0s 1ms/step - loss: 0.5389 - accuracy: 0.8031\n",
      "Epoch 56/100\n",
      "13/13 [==============================] - 0s 879us/step - loss: 0.5326 - accuracy: 0.7953\n",
      "Epoch 57/100\n",
      "13/13 [==============================] - 0s 918us/step - loss: 0.5232 - accuracy: 0.8031\n",
      "Epoch 58/100\n",
      "13/13 [==============================] - 0s 928us/step - loss: 0.5194 - accuracy: 0.8189\n",
      "Epoch 59/100\n",
      "13/13 [==============================] - 0s 990us/step - loss: 0.5110 - accuracy: 0.8110\n",
      "Epoch 60/100\n",
      "13/13 [==============================] - 0s 1ms/step - loss: 0.5037 - accuracy: 0.8031\n",
      "Epoch 61/100\n",
      "13/13 [==============================] - 0s 955us/step - loss: 0.5001 - accuracy: 0.8031\n",
      "Epoch 62/100\n",
      "13/13 [==============================] - 0s 957us/step - loss: 0.4923 - accuracy: 0.8189\n",
      "Epoch 63/100\n",
      "13/13 [==============================] - 0s 1ms/step - loss: 0.4872 - accuracy: 0.8189\n",
      "Epoch 64/100\n",
      "13/13 [==============================] - 0s 1ms/step - loss: 0.4821 - accuracy: 0.8189\n",
      "Epoch 65/100\n",
      "13/13 [==============================] - 0s 1ms/step - loss: 0.4750 - accuracy: 0.8110\n",
      "Epoch 66/100\n",
      "13/13 [==============================] - 0s 1ms/step - loss: 0.4709 - accuracy: 0.7953\n",
      "Epoch 67/100\n",
      "13/13 [==============================] - 0s 965us/step - loss: 0.4643 - accuracy: 0.8110\n",
      "Epoch 68/100\n",
      "13/13 [==============================] - 0s 927us/step - loss: 0.4592 - accuracy: 0.8189\n",
      "Epoch 69/100\n",
      "13/13 [==============================] - 0s 920us/step - loss: 0.4535 - accuracy: 0.8268\n",
      "Epoch 70/100\n",
      "13/13 [==============================] - 0s 849us/step - loss: 0.4512 - accuracy: 0.8268\n",
      "Epoch 71/100\n",
      "13/13 [==============================] - 0s 878us/step - loss: 0.4497 - accuracy: 0.8346\n",
      "Epoch 72/100\n",
      "13/13 [==============================] - 0s 922us/step - loss: 0.4407 - accuracy: 0.8268\n",
      "Epoch 73/100\n",
      "13/13 [==============================] - 0s 876us/step - loss: 0.4372 - accuracy: 0.8189\n",
      "Epoch 74/100\n",
      "13/13 [==============================] - 0s 923us/step - loss: 0.4355 - accuracy: 0.8346\n",
      "Epoch 75/100\n",
      "13/13 [==============================] - 0s 920us/step - loss: 0.4281 - accuracy: 0.8189\n",
      "Epoch 76/100\n",
      "13/13 [==============================] - 0s 935us/step - loss: 0.4216 - accuracy: 0.8110\n",
      "Epoch 77/100\n",
      "13/13 [==============================] - 0s 963us/step - loss: 0.4200 - accuracy: 0.8031\n",
      "Epoch 78/100\n",
      "13/13 [==============================] - 0s 892us/step - loss: 0.4130 - accuracy: 0.8268\n",
      "Epoch 79/100\n",
      "13/13 [==============================] - 0s 1ms/step - loss: 0.4113 - accuracy: 0.8346\n",
      "Epoch 80/100\n",
      "13/13 [==============================] - 0s 1ms/step - loss: 0.4072 - accuracy: 0.8425\n",
      "Epoch 81/100\n",
      "13/13 [==============================] - 0s 1ms/step - loss: 0.4048 - accuracy: 0.8268\n",
      "Epoch 82/100\n",
      "13/13 [==============================] - 0s 1ms/step - loss: 0.4014 - accuracy: 0.8189\n",
      "Epoch 83/100\n",
      "13/13 [==============================] - 0s 1ms/step - loss: 0.3951 - accuracy: 0.8346\n",
      "Epoch 84/100\n",
      "13/13 [==============================] - 0s 1ms/step - loss: 0.3922 - accuracy: 0.8268\n",
      "Epoch 85/100\n",
      "13/13 [==============================] - 0s 1ms/step - loss: 0.3893 - accuracy: 0.8425\n",
      "Epoch 86/100\n",
      "13/13 [==============================] - 0s 1ms/step - loss: 0.3849 - accuracy: 0.8425\n",
      "Epoch 87/100\n",
      "13/13 [==============================] - 0s 1ms/step - loss: 0.3822 - accuracy: 0.8346\n",
      "Epoch 88/100\n",
      "13/13 [==============================] - 0s 1ms/step - loss: 0.3787 - accuracy: 0.8346\n",
      "Epoch 89/100\n",
      "13/13 [==============================] - 0s 1ms/step - loss: 0.3768 - accuracy: 0.8425\n",
      "Epoch 90/100\n",
      "13/13 [==============================] - 0s 1ms/step - loss: 0.3765 - accuracy: 0.8504\n",
      "Epoch 91/100\n",
      "13/13 [==============================] - 0s 1ms/step - loss: 0.3701 - accuracy: 0.8740\n",
      "Epoch 92/100\n",
      "13/13 [==============================] - 0s 1ms/step - loss: 0.3686 - accuracy: 0.8819\n",
      "Epoch 93/100\n",
      "13/13 [==============================] - 0s 981us/step - loss: 0.3642 - accuracy: 0.8661\n",
      "Epoch 94/100\n",
      "13/13 [==============================] - 0s 924us/step - loss: 0.3649 - accuracy: 0.8583\n",
      "Epoch 95/100\n",
      "13/13 [==============================] - 0s 845us/step - loss: 0.3596 - accuracy: 0.8583\n",
      "Epoch 96/100\n",
      "13/13 [==============================] - 0s 959us/step - loss: 0.3598 - accuracy: 0.8504\n",
      "Epoch 97/100\n",
      "13/13 [==============================] - 0s 1ms/step - loss: 0.3567 - accuracy: 0.8898\n",
      "Epoch 98/100\n",
      "13/13 [==============================] - 0s 1ms/step - loss: 0.3511 - accuracy: 0.8898\n",
      "Epoch 99/100\n",
      "13/13 [==============================] - 0s 1ms/step - loss: 0.3528 - accuracy: 0.8740\n",
      "Epoch 100/100\n",
      "13/13 [==============================] - 0s 1ms/step - loss: 0.3532 - accuracy: 0.8504\n"
     ]
    },
    {
     "data": {
      "text/plain": [
       "<keras.src.callbacks.History at 0x2ddc4112650>"
      ]
     },
     "execution_count": 90,
     "metadata": {},
     "output_type": "execute_result"
    }
   ],
   "source": [
    "model.fit(X_train, y_train, epochs=100, batch_size=10)"
   ]
  },
  {
   "cell_type": "code",
   "execution_count": 91,
   "metadata": {},
   "outputs": [
    {
     "name": "stdout",
     "output_type": "stream",
     "text": [
      "1/1 [==============================] - 0s 89ms/step - loss: 0.4382 - accuracy: 0.8438\n",
      "Accuracy: 84.38%\n"
     ]
    }
   ],
   "source": [
    "_, accuracy = model.evaluate(X_test, y_test)\n",
    "print(f'Accuracy: {accuracy * 100:.2f}%')\n"
   ]
  },
  {
   "cell_type": "code",
   "execution_count": 92,
   "metadata": {},
   "outputs": [],
   "source": [
    "import pickle\n",
    "\n",
    "with open('fish_predictor.pkl', 'wb') as file:\n",
    "    pickle.dump(model, file)\n"
   ]
  },
  {
   "cell_type": "code",
   "execution_count": 93,
   "metadata": {},
   "outputs": [],
   "source": [
    "import numpy as np"
   ]
  },
  {
   "cell_type": "code",
   "execution_count": 94,
   "metadata": {},
   "outputs": [
    {
     "name": "stdout",
     "output_type": "stream",
     "text": [
      "Label Mapping: {'Bream': 0, 'Parkki': 1, 'Perch': 2, 'Pike': 3, 'Roach': 4, 'Smelt': 5, 'Whitefish': 6}\n"
     ]
    }
   ],
   "source": [
    "label_mapping = {label: index for index, label in enumerate(encoder.classes_)}\n",
    "print(\"Label Mapping:\", label_mapping)"
   ]
  },
  {
   "cell_type": "code",
   "execution_count": 95,
   "metadata": {},
   "outputs": [],
   "source": [
    "reversed_label_mapping = {value: key for key, value in label_mapping.items()}"
   ]
  },
  {
   "cell_type": "code",
   "execution_count": 96,
   "metadata": {},
   "outputs": [
    {
     "data": {
      "text/plain": [
       "{0: 'Bream',\n",
       " 1: 'Parkki',\n",
       " 2: 'Perch',\n",
       " 3: 'Pike',\n",
       " 4: 'Roach',\n",
       " 5: 'Smelt',\n",
       " 6: 'Whitefish'}"
      ]
     },
     "execution_count": 96,
     "metadata": {},
     "output_type": "execute_result"
    }
   ],
   "source": [
    "reversed_label_mapping"
   ]
  },
  {
   "cell_type": "code",
   "execution_count": 97,
   "metadata": {},
   "outputs": [],
   "source": [
    "my_input = [0.1, 0.4, 0.5, 0.6, 0.1, 0.2]"
   ]
  },
  {
   "cell_type": "code",
   "execution_count": 98,
   "metadata": {},
   "outputs": [
    {
     "name": "stdout",
     "output_type": "stream",
     "text": [
      "1/1 [==============================] - 0s 57ms/step\n"
     ]
    },
    {
     "data": {
      "text/plain": [
       "'Perch'"
      ]
     },
     "execution_count": 98,
     "metadata": {},
     "output_type": "execute_result"
    }
   ],
   "source": [
    "reversed_label_mapping[np.argmax(model.predict(np.array(my_input, dtype = float).reshape(1,6)))]"
   ]
  },
  {
   "cell_type": "code",
   "execution_count": 99,
   "metadata": {},
   "outputs": [],
   "source": [
    "with open('scaler.pkl', 'wb') as file:\n",
    "    pickle.dump(scaler, file)"
   ]
  }
 ],
 "metadata": {
  "kernelspec": {
   "display_name": "Python 3",
   "language": "python",
   "name": "python3"
  },
  "language_info": {
   "codemirror_mode": {
    "name": "ipython",
    "version": 3
   },
   "file_extension": ".py",
   "mimetype": "text/x-python",
   "name": "python",
   "nbconvert_exporter": "python",
   "pygments_lexer": "ipython3",
   "version": "3.11.0"
  }
 },
 "nbformat": 4,
 "nbformat_minor": 2
}
